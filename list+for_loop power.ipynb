{
 "cells": [
  {
   "cell_type": "code",
   "execution_count": null,
   "metadata": {},
   "outputs": [],
   "source": [
    "print(\"hello updated window\")"
   ]
  },
  {
   "cell_type": "code",
   "execution_count": null,
   "metadata": {},
   "outputs": [],
   "source": [
    "name=input()\n",
    "age=input()\n",
    "#weight=float(input())\n",
    "\n",
    "print(name+\" is\"+age+\" Years old.\")\n",
    "print(name+\" is\"+age+\" Years old.\")\n",
    "\n"
   ]
  },
  {
   "cell_type": "code",
   "execution_count": 2,
   "metadata": {},
   "outputs": [
    {
     "name": "stdout",
     "output_type": "stream",
     "text": [
      "A\n",
      " \n",
      "F\n",
      "a\n",
      "m\n",
      "o\n",
      "u\n",
      "s\n",
      " \n",
      "m\n",
      "a\n",
      "n\n",
      " \n",
      "o\n",
      "n\n",
      "c\n",
      "e\n",
      " \n",
      "s\n",
      "a\n",
      "i\n",
      "d\n",
      " \n",
      "w\n",
      "e\n",
      " \n",
      "c\n",
      "r\n",
      "e\n",
      "a\n",
      "t\n",
      "e\n",
      " \n",
      "o\n",
      "u\n",
      "r\n",
      " \n",
      "o\n",
      "w\n",
      "n\n",
      " \n",
      "D\n",
      "e\n",
      "m\n",
      "o\n",
      "n\n",
      "s\n",
      ".\n"
     ]
    }
   ],
   "source": [
    "str=\"A Famous man once said we create our own Demons.\"\n",
    "for i in str:\n",
    "    print(i)\n",
    "\n"
   ]
  },
  {
   "cell_type": "markdown",
   "metadata": {},
   "source": []
  },
  {
   "cell_type": "code",
   "execution_count": 3,
   "metadata": {},
   "outputs": [
    {
     "name": "stdout",
     "output_type": "stream",
     "text": [
      "0 1 2 3 4 5 6 7 8 9 "
     ]
    }
   ],
   "source": [
    "for i in range(10):\n",
    "    print(i,end=' ')"
   ]
  },
  {
   "cell_type": "code",
   "execution_count": 6,
   "metadata": {},
   "outputs": [
    {
     "name": "stdout",
     "output_type": "stream",
     "text": [
      "0 8 16 24 32 40 48 56 64 72 80 88 96 "
     ]
    }
   ],
   "source": [
    "for i in range(0,101,8):\n",
    "    print(i,end=' ')"
   ]
  },
  {
   "cell_type": "code",
   "execution_count": 8,
   "metadata": {},
   "outputs": [
    {
     "name": "stdout",
     "output_type": "stream",
     "text": [
      "100 99 98 97 96 95 94 93 92 91 90 89 88 87 86 85 84 83 82 81 80 79 78 77 76 75 74 73 72 71 70 69 68 67 66 65 64 63 62 61 60 59 58 57 56 55 54 53 52 51 50 49 48 47 46 45 44 43 42 41 40 39 38 37 36 35 34 33 32 31 30 29 28 27 26 25 24 23 22 21 20 19 18 17 16 15 14 13 12 11 10 9 8 7 6 5 4 3 2 1 "
     ]
    }
   ],
   "source": [
    "for i in range(100,0,-1):\n",
    "    print(i,end=' ')"
   ]
  },
  {
   "cell_type": "code",
   "execution_count": 15,
   "metadata": {},
   "outputs": [
    {
     "name": "stdout",
     "output_type": "stream",
     "text": [
      "1.2 1.8 5 10 15 SUM: 33.0\n"
     ]
    }
   ],
   "source": [
    "data=[1.2,1.8,5,10,15]\n",
    "for value in data:\n",
    "    print(value,end=' ')\n",
    "print('SUM:',sum(data))    #This sum function is much faster than the user-defined function"
   ]
  },
  {
   "cell_type": "code",
   "execution_count": 16,
   "metadata": {},
   "outputs": [
    {
     "name": "stdout",
     "output_type": "stream",
     "text": [
      "Sum: 33.0 "
     ]
    }
   ],
   "source": [
    "data=[1.2,1.8,5,10,15]\n",
    "total=0\n",
    "for value in data:\n",
    "    total=total + value\n",
    "print('Sum:',total,end=' ')"
   ]
  },
  {
   "cell_type": "code",
   "execution_count": 18,
   "metadata": {},
   "outputs": [
    {
     "name": "stdout",
     "output_type": "stream",
     "text": [
      "Largest element in the list: 78\n"
     ]
    }
   ],
   "source": [
    "#To find the greatest no in the list\n",
    "data=[23,12,34,78,25,56]\n",
    "find_max=0              #for negative values it might print wrong answer so be careful\n",
    "for value in data:\n",
    "    if value>find_max:\n",
    "        find_max=value\n",
    "print('Largest element in the list:',find_max)        "
   ]
  },
  {
   "cell_type": "code",
   "execution_count": 20,
   "metadata": {},
   "outputs": [
    {
     "name": "stdout",
     "output_type": "stream",
     "text": [
      "Largest element: 78\n"
     ]
    }
   ],
   "source": [
    "#using max function\n",
    "data=[23,12,34,78,25,56]\n",
    "print('Largest element:',max(data))"
   ]
  },
  {
   "cell_type": "code",
   "execution_count": 5,
   "metadata": {},
   "outputs": [
    {
     "name": "stdout",
     "output_type": "stream",
     "text": [
      "23\n",
      "12\n",
      "34\n",
      "78\n",
      "25\n",
      "56\n"
     ]
    }
   ],
   "source": [
    "#Using range function in a list\n",
    "data=[23,12,34,78,25,56]\n",
    "for i in range(6):\n",
    "    print(data[i])"
   ]
  },
  {
   "cell_type": "code",
   "execution_count": 6,
   "metadata": {},
   "outputs": [
    {
     "name": "stdout",
     "output_type": "stream",
     "text": [
      "[23, 12, 34, 78, 25, 56]\n"
     ]
    }
   ],
   "source": [
    "data_copy=data[:]\n",
    "print(data_copy)"
   ]
  }
 ],
 "metadata": {
  "kernelspec": {
   "display_name": "Python 3",
   "language": "python",
   "name": "python3"
  },
  "language_info": {
   "codemirror_mode": {
    "name": "ipython",
    "version": 3
   },
   "file_extension": ".py",
   "mimetype": "text/x-python",
   "name": "python",
   "nbconvert_exporter": "python",
   "pygments_lexer": "ipython3",
   "version": "3.7.3"
  }
 },
 "nbformat": 4,
 "nbformat_minor": 2
}
