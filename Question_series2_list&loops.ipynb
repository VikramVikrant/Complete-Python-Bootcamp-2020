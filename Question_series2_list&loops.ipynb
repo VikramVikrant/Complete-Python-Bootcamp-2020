{
 "cells": [
  {
   "cell_type": "markdown",
   "metadata": {},
   "source": [
    "### Question 1\n",
    "- Ask the user for 2 numbers between 1 to 100 then count from the lower number to higher number\n",
    "- Print the results"
   ]
  },
  {
   "cell_type": "code",
   "execution_count": 6,
   "metadata": {},
   "outputs": [
    {
     "name": "stdout",
     "output_type": "stream",
     "text": [
      "Enter first number:560\n",
      "Enter second number:12\n",
      "You entered wrong input.\n",
      "ENTER FIRST NUMBER:56\n",
      "ENTER SECOND NUMBER:23\n",
      "23 24 25 26 27 28 29 30 31 32 33 34 35 36 37 38 39 40 41 42 43 44 45 46 47 48 49 50 51 52 53 54 55 56 "
     ]
    }
   ],
   "source": [
    "num1=int(input('Enter first number:'))\n",
    "num2=int(input('Enter second number:'))\n",
    "while num1 <0 or num2<0 or num1 >100 or num2>100 or num1==num2:\n",
    "    print('You entered wrong input.')\n",
    "    num1=int(input('ENTER FIRST NUMBER:'))\n",
    "    num2=int(input('ENTER SECOND NUMBER:'))\n",
    "if num1 > num2:\n",
    "    for i in range(num2,num1+1):\n",
    "        print(i,end=' ')\n",
    "else:\n",
    "    for i in range(num1,num2+1):\n",
    "        print(i,end=' ')"
   ]
  },
  {
   "cell_type": "markdown",
   "metadata": {},
   "source": [
    "### Question 2\n",
    "- Ask the user to enter a string & print it out on the screen in reverse order using for loop"
   ]
  },
  {
   "cell_type": "code",
   "execution_count": 11,
   "metadata": {},
   "outputs": [
    {
     "name": "stdout",
     "output_type": "stream",
     "text": [
      "Enter the string:hellofond\n",
      "dnofolleh\n"
     ]
    }
   ],
   "source": [
    "word=input('Enter the string:')\n",
    "revstr=''\n",
    "for char in word:\n",
    "    revstr = char + revstr\n",
    "print(revstr)"
   ]
  },
  {
   "cell_type": "code",
   "execution_count": 13,
   "metadata": {},
   "outputs": [
    {
     "name": "stdout",
     "output_type": "stream",
     "text": [
      "Enter a string:Can you smell\n",
      "llems uoy naC\n"
     ]
    }
   ],
   "source": [
    "word=input('Enter a string:')\n",
    "print(word[::-1])"
   ]
  },
  {
   "cell_type": "markdown",
   "metadata": {},
   "source": [
    "### Question 3\n",
    "- Ask the user to enter an integer between 1 and 12 & display a times table for that number"
   ]
  },
  {
   "cell_type": "code",
   "execution_count": 3,
   "metadata": {},
   "outputs": [
    {
     "name": "stdout",
     "output_type": "stream",
     "text": [
      "Enter a number between 1 & 12 (including 1 & 12) 3\n",
      "3 * 1 = 3\n",
      "3 * 2 = 6\n",
      "3 * 3 = 9\n",
      "3 * 4 = 12\n",
      "3 * 5 = 15\n",
      "3 * 6 = 18\n",
      "3 * 7 = 21\n",
      "3 * 8 = 24\n",
      "3 * 9 = 27\n",
      "3 * 10 = 30\n"
     ]
    }
   ],
   "source": [
    "num=int(input('Enter a number between 1 & 12 (including 1 & 12) '))\n",
    "i=1\n",
    "while i<=10:\n",
    "    print(num,'*',i,'=',num*i)\n",
    "    i=i+1\n",
    "    "
   ]
  }
 ],
 "metadata": {
  "kernelspec": {
   "display_name": "Python 3",
   "language": "python",
   "name": "python3"
  },
  "language_info": {
   "codemirror_mode": {
    "name": "ipython",
    "version": 3
   },
   "file_extension": ".py",
   "mimetype": "text/x-python",
   "name": "python",
   "nbconvert_exporter": "python",
   "pygments_lexer": "ipython3",
   "version": "3.7.3"
  }
 },
 "nbformat": 4,
 "nbformat_minor": 2
}
