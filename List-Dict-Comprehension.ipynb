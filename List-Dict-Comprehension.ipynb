{
 "cells": [
  {
   "cell_type": "code",
   "execution_count": 5,
   "metadata": {},
   "outputs": [
    {
     "name": "stdout",
     "output_type": "stream",
     "text": [
      "[4, 5, 6]\n",
      "\n",
      "5     6\n"
     ]
    }
   ],
   "source": [
    "my_list=[[1,2,3],[4,5,6],[7,8,9]]\n",
    "print(my_list[1])\n",
    "print()\n",
    "print(my_list[1][1],end='     ')\n",
    "print(my_list[1][2])"
   ]
  },
  {
   "cell_type": "code",
   "execution_count": 12,
   "metadata": {},
   "outputs": [
    {
     "name": "stdout",
     "output_type": "stream",
     "text": [
      "France {'Capital': 'Paris', 'Language': 'French'}\n",
      "India {'Capital': 'New Delhi', 'Language': 'Hindi'}\n",
      "United Kingdom {'Capital': 'London', 'Language': 'English'}\n",
      "\n",
      "\n",
      "\n",
      "Paris is the capital of France, they speak French. \n",
      "New Delhi is the capital of India, they speak Hindi. \n",
      "London is the capital of United Kingdom, they speak English. \n"
     ]
    }
   ],
   "source": [
    "Countries={'France':{'Capital':'Paris','Language':'French'},'India':{'Capital':'New Delhi','Language':'Hindi'},\n",
    "          'United Kingdom':{'Capital':'London','Language':'English'}}\n",
    "for key,value in Countries.items():\n",
    "    print(key,value)\n",
    "    \n",
    "print('\\n\\n')\n",
    "\n",
    "for key,value in Countries.items():\n",
    "    print(f'{value[\"Capital\"]} is the capital of {key}, they speak {value[\"Language\"]}. ')"
   ]
  },
  {
   "cell_type": "code",
   "execution_count": 13,
   "metadata": {},
   "outputs": [],
   "source": [
    "prisOfAzkaban=''' Harry Potter and the Prisoner of Azkaban opens on the night before Harry's thirteenth birthday, when he \n",
    "receives gifts by Owl Post from his friends at school. The next morning at breakfast, Harry sees on television that\n",
    "a man named Black is on the loose from prison. At this time, Aunt Marge comes to stay with the Dursleys, and she \n",
    "insults Harry's parents numerous times. Harry accidentally causes her to inflate. Harry leaves the Dursley's house \n",
    "and is picked up by the Knight Bus, but only after an alarming sighting of a large, black dog. The Knight Bus drops\n",
    "Harry off at Diagon Alley, where he is greeted by Cornelius Fudge, the Minister of Magic. He rents a room and \n",
    "awaits the start of school. In Diagon Alley, Harry finishes his schoolwork, admires a Firebolt broomstick in the \n",
    "window of a shop, and after some time, finds his friends Ron and Hermione. At a pet shop, Hermione buys a cat named\n",
    "Crookshanks, who chases Scabbers, Ron's aging pet rat. Ron is most displeased. The night before they all head off\n",
    "to Hogwarts, Harry overhears Ron's parents discussing the fact that Sirius Black is after Harry.\n",
    "\n",
    "The students board the Hogwarts Express train and are stopped once by an entity called a Dementor. Harry faints and\n",
    "is revived by Professor Lupin, the new defense against the dark arts teacher. Soon afterward, the students arrive \n",
    "at Hogwarts and classes begin. In divination class, Professor Trelawney foresees Harry's death by reading tealeaves\n",
    "and finding the representation of a Grim, a large black dog symbolizing death. In the care of magical creatures \n",
    "class, Hagrid introduces the students to Hippogriffs, large, deeply dignified crosses between horses and eagles.\n",
    "Malfoy insults one of these beasts, Buckbeak, and is attacked. Malfoy drags out the injury in an attempt to have\n",
    "Hagrid fired and Buckbeak put to sleep. In Defense Against the Dark Arts, Professor Lupin leads the class in a \n",
    "defeat of a Boggart, which changes shape to appear as the viewer's greatest fear. For Lupin, it turns into an orb,\n",
    "for Ron, a spider. Harry doesn't have a chance to fight it.'''"
   ]
  },
  {
   "cell_type": "code",
   "execution_count": 16,
   "metadata": {},
   "outputs": [
    {
     "name": "stdout",
     "output_type": "stream",
     "text": [
      "Counter({' ': 346, 'e': 191, 'a': 164, 's': 147, 't': 141, 'r': 132, 'n': 112, 'o': 107, 'i': 106, 'h': 94, 'd': 67, 'l': 51, 'f': 50, 'g': 45, 'c': 41, 'y': 36, 'p': 35, 'b': 34, 'u': 32, ',': 30, 'm': 29, '.': 21, 'k': 20, '\\n': 19, 'w': 18, 'v': 12, \"'\": 8, 'z': 2, 'x': 2, 'j': 1})\n"
     ]
    }
   ],
   "source": [
    "from collections import Counter\n",
    "print(Counter(prisOfAzkaban.lower()))"
   ]
  },
  {
   "cell_type": "code",
   "execution_count": 19,
   "metadata": {},
   "outputs": [
    {
     "name": "stdout",
     "output_type": "stream",
     "text": [
      "{'h': 94, 'a': 164, 'r': 132, 'y': 36, 'p': 35, 'o': 107, 't': 141, 'e': 191, 'n': 112, 'd': 67, 'i': 106, 's': 147, 'f': 50, 'z': 2, 'k': 20, 'b': 34, 'g': 45, 'w': 18, 'c': 41, 'v': 12, 'l': 51, 'm': 29, 'x': 2, 'u': 32, 'j': 1}\n"
     ]
    }
   ],
   "source": [
    "new_dict=dict(Counter(prisOfAzkaban.lower()))\n",
    "new_dict={k:v for k,v in new_dict.items() if k.isalpha()}  #Dictionary Comprehension\n",
    "print(new_dict)                                            #We do have list comprehension also"
   ]
  },
  {
   "cell_type": "code",
   "execution_count": 22,
   "metadata": {},
   "outputs": [
    {
     "data": {
      "image/png": "[encoded data removed]",
      "text/plain": [
       "<Figure size 432x288 with 1 Axes>"
      ]
     },
     "metadata": {
      "needs_background": "light"
     },
     "output_type": "display_data"
    }
   ],
   "source": [
    "import matplotlib.pyplot as plt\n",
    "a,b=zip(*new_dict.items())\n",
    "plt.bar(a,b)\n",
    "plt.show()"
   ]
  },
  {
   "cell_type": "code",
   "execution_count": 25,
   "metadata": {},
   "outputs": [
    {
     "name": "stdout",
     "output_type": "stream",
     "text": [
      "[1, 4, 9, 16, 25, 36, 49, 64, 81, 100]\n"
     ]
    }
   ],
   "source": [
    "L=[x**2 for x in range(1,11)]      #List comprehension\n",
    "print(L)"
   ]
  },
  {
   "cell_type": "code",
   "execution_count": 26,
   "metadata": {},
   "outputs": [
    {
     "name": "stdout",
     "output_type": "stream",
     "text": [
      "[1, 4, 9, 16, 25, 36, 49, 64, 81, 100]\n"
     ]
    }
   ],
   "source": [
    "#To do the same thing we have to write the following code\n",
    "M=[]\n",
    "for i in range(1,11):\n",
    "    M.append(i**2)\n",
    "print(M)    "
   ]
  }
 ],
 "metadata": {
  "kernelspec": {
   "display_name": "Python 3",
   "language": "python",
   "name": "python3"
  },
  "language_info": {
   "codemirror_mode": {
    "name": "ipython",
    "version": 3
   },
   "file_extension": ".py",
   "mimetype": "text/x-python",
   "name": "python",
   "nbconvert_exporter": "python",
   "pygments_lexer": "ipython3",
   "version": "3.7.3"
  }
 },
 "nbformat": 4,
 "nbformat_minor": 2
}
