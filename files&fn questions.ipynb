{
 "cells": [
  {
   "cell_type": "markdown",
   "metadata": {},
   "source": [
    "### Question 1\n",
    "- Create a function that will calculate sum of two numbers,call it sum_two."
   ]
  },
  {
   "cell_type": "code",
   "execution_count": 3,
   "metadata": {},
   "outputs": [
    {
     "name": "stdout",
     "output_type": "stream",
     "text": [
      "101\n",
      "100\n"
     ]
    }
   ],
   "source": [
    "def sum_two(a,b):\n",
    "    return a+b;\n",
    "print(sum_two(45,56))\n",
    "print(sum_two(78,22))"
   ]
  },
  {
   "cell_type": "markdown",
   "metadata": {},
   "source": [
    "### Question 2\n",
    "- Write a function that perform multiplication of two arguements.\n",
    "- By default the function should multiply the second arguement by 2.\n",
    "- Call it multiply."
   ]
  },
  {
   "cell_type": "code",
   "execution_count": 4,
   "metadata": {},
   "outputs": [
    {
     "name": "stdout",
     "output_type": "stream",
     "text": [
      "6\n",
      "35\n"
     ]
    }
   ],
   "source": [
    "def multiply(a,b=2):\n",
    "    return a*b\n",
    "print(multiply(3))\n",
    "print(multiply(5,7))"
   ]
  },
  {
   "cell_type": "markdown",
   "metadata": {},
   "source": [
    "### Question 3\n",
    "- Write a function to calculate a to the power of b.\n",
    "- If b is not given,give the default value of b=2.\n",
    "- Call it power."
   ]
  },
  {
   "cell_type": "code",
   "execution_count": 6,
   "metadata": {},
   "outputs": [
    {
     "name": "stdout",
     "output_type": "stream",
     "text": [
      " 5 to the power 2 gives 25\n",
      "2 to the power 5 gives 32\n"
     ]
    }
   ],
   "source": [
    "def power(a,b=2):\n",
    "    return a**b\n",
    "print(f' 5 to the power 2 gives {power(5)}')\n",
    "print(f'2 to the power 5 gives {power(2,5)}')"
   ]
  },
  {
   "cell_type": "markdown",
   "metadata": {},
   "source": [
    "### Question 4\n",
    "- Create a new file Capitals.txt,store the name of 5 capital cities in the same line."
   ]
  },
  {
   "cell_type": "code",
   "execution_count": 9,
   "metadata": {},
   "outputs": [],
   "source": [
    "f=open('Capitals.txt','w')\n",
    "f.write('New_Delhi ')\n",
    "f.write('Paris ')\n",
    "f.write('Washington DC ')\n",
    "f.write('Cairo ')\n",
    "f.write('London ')\n",
    "f.close()"
   ]
  },
  {
   "cell_type": "markdown",
   "metadata": {},
   "source": [
    "### Question 5\n",
    "- Write some code that requests the user to input another capital city.\n",
    "- Add that cities to the list of cities in capitals.Then print the file to the screen."
   ]
  },
  {
   "cell_type": "code",
   "execution_count": 10,
   "metadata": {},
   "outputs": [
    {
     "name": "stdout",
     "output_type": "stream",
     "text": [
      "Enter the capital of the city:Cape_town\n",
      "New_Delhi Paris Washington DC Cairo London \n",
      "Cape_town\n"
     ]
    }
   ],
   "source": [
    "User_input=input('Enter the capital of the city:')\n",
    "f=open('Capitals.txt','a')\n",
    "f.write('\\n' +User_input)\n",
    "f.close()\n",
    "\n",
    "f=open('Capitals.txt','r')\n",
    "print(f.read())\n",
    "f.close()"
   ]
  },
  {
   "cell_type": "markdown",
   "metadata": {},
   "source": [
    "### Question 6\n",
    "- Write a function that will copy the contents of one file to another file."
   ]
  },
  {
   "cell_type": "code",
   "execution_count": 14,
   "metadata": {},
   "outputs": [],
   "source": [
    "def copy_file(infile,outfile):\n",
    "    with open(infile) as file:\n",
    "        with open(outfile,'w') as file_1:\n",
    "            file_1.write(file.read())\n",
    "            \n",
    "copy_file('Capitals.txt','new_capitals.txt')            "
   ]
  }
 ],
 "metadata": {
  "kernelspec": {
   "display_name": "Python 3",
   "language": "python",
   "name": "python3"
  },
  "language_info": {
   "codemirror_mode": {
    "name": "ipython",
    "version": 3
   },
   "file_extension": ".py",
   "mimetype": "text/x-python",
   "name": "python",
   "nbconvert_exporter": "python",
   "pygments_lexer": "ipython3",
   "version": "3.7.3"
  }
 },
 "nbformat": 4,
 "nbformat_minor": 2
}
