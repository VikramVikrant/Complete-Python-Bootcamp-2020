{
 "cells": [
  {
   "cell_type": "code",
   "execution_count": 10,
   "metadata": {},
   "outputs": [
    {
     "name": "stdout",
     "output_type": "stream",
     "text": [
      "False\n",
      "True\n",
      "------------\n",
      "True\n",
      "False\n",
      "False\n",
      "False\n",
      "-------------\n",
      "True\n",
      "True\n",
      "True\n",
      "False\n",
      "***********\n",
      "not True is: False\n",
      "not False is: True\n"
     ]
    }
   ],
   "source": [
    "print(3<4 and 5<4)\n",
    "print(3<4 or 5<4)\n",
    "#########\n",
    "print('------------')    #and operator\n",
    "print(True and True)\n",
    "print(True and False)\n",
    "print(False and True)\n",
    "print(False and False)\n",
    "print('-------------')\n",
    "print(True or True)\n",
    "print(True or False)\n",
    "print(False or True)\n",
    "print(False or False)\n",
    "print('***********')\n",
    "print('not True is:',not True)\n",
    "#print('##########')\n",
    "print('not False is:',not False)"
   ]
  },
  {
   "cell_type": "code",
   "execution_count": 12,
   "metadata": {},
   "outputs": [
    {
     "name": "stdout",
     "output_type": "stream",
     "text": [
      "let's'dance in the jungle!\n",
      "Let's dance in the jungle!\n"
     ]
    }
   ],
   "source": [
    "print('let\\'s\\'dance in the jungle!')\n",
    "print('Let\\'s dance in the jungle!')"
   ]
  },
  {
   "cell_type": "markdown",
   "metadata": {},
   "source": [
    "### Conditionals\n",
    "  * This program takes temperature in celsius as user-input & tells us what to wear & what precaution to take\n",
    "    while going outside\n",
    "    [Python](http://www.youtube.com/)"
   ]
  },
  {
   "cell_type": "code",
   "execution_count": 10,
   "metadata": {},
   "outputs": [
    {
     "name": "stdout",
     "output_type": "stream",
     "text": [
      "Please enter the temperature in celsius. An integer between '0-50'>>> 50\n",
      "It's too hot!'Take an umbrella & wear shorts.\n"
     ]
    }
   ],
   "source": [
    "\n",
    "temp=int(input('Please enter the temperature in celsius. An integer between \\'0-50\\'>>> '))\n",
    "if temp<=50 and temp>30:\n",
    "    print('It\\'s too hot!\\'Take an umbrella & wear shorts.')\n",
    "elif temp<=30 and temp>20:\n",
    "    print('It\\'s great weather....You can go outside.' )\n",
    "elif temp<=20 and temp>10:\n",
    "    print('It\\'s windy weather , wear a jacket & came out.')\n",
    "elif temp<=10 and temp>0:\n",
    "    print('It\\'s too cold!!!Don\\'t go outside.Stay in home. ')\n",
    "else:\n",
    "    print('Wrong input entered,read carefully what you have to do before entering any input.')"
   ]
  },
  {
   "cell_type": "markdown",
   "metadata": {},
   "source": [
    "### Word Game\n",
    "- Here we will play a guessing game using various string functions."
   ]
  },
  {
   "cell_type": "code",
   "execution_count": 7,
   "metadata": {},
   "outputs": [
    {
     "name": "stdout",
     "output_type": "stream",
     "text": [
      "I'm thinking of a word,can you guess it?\n",
      "Hint:it's a season. summer\n",
      "Well Done! It's summer.\n"
     ]
    }
   ],
   "source": [
    "word='summer'\n",
    "guess=input('I\\'m thinking of a word,can you guess it?\\nHint:it\\'s a season. ')\n",
    "guess=guess.lower()\n",
    "if guess == 'summer':\n",
    "    print('Well Done! It\\'s summer.')\n",
    "elif guess == 'winter':\n",
    "    print('It\\'s not winter.')\n",
    "elif guess == 'spring':\n",
    "    print('It\\'s not spring.')\n",
    "elif guess == 'rainy':\n",
    "    print('It\\'s not rainy.')\n",
    "elif guess == 'autumn':\n",
    "    print('It\\'s not autumn.')\n",
    "else:\n",
    "    print(guess.capitalize(),'is not a season.')"
   ]
  }
 ],
 "metadata": {
  "kernelspec": {
   "display_name": "Python 3",
   "language": "python",
   "name": "python3"
  },
  "language_info": {
   "codemirror_mode": {
    "name": "ipython",
    "version": 3
   },
   "file_extension": ".py",
   "mimetype": "text/x-python",
   "name": "python",
   "nbconvert_exporter": "python",
   "pygments_lexer": "ipython3",
   "version": "3.7.3"
  }
 },
 "nbformat": 4,
 "nbformat_minor": 2
}
