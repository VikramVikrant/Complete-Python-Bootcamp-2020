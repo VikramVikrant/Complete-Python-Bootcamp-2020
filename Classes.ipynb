{
 "cells": [
  {
   "cell_type": "code",
   "execution_count": 2,
   "metadata": {},
   "outputs": [
    {
     "name": "stdout",
     "output_type": "stream",
     "text": [
      "Doctor 1 name is Vikram Vikrant and he is 21 years old.\n",
      "Doctor 2 name is Vishal Gaurav and he is 26 years old.\n"
     ]
    }
   ],
   "source": [
    "class Patient(object):      #here object is a sort of builtin class template from which all other classes inherit\n",
    "    def __init__(self,name,age):\n",
    "        self.name=name\n",
    "        self.age=age\n",
    "Vikrant=Patient('Vikram Vikrant',21)\n",
    "Vishal=Patient('Vishal Gaurav',26)\n",
    "print(f'Doctor 1 name is {Vikrant.name} and he is {Vikrant.age} years old.')  \n",
    "print(f'Doctor 2 name is {Vishal.name} and he is {Vishal.age} years old.')  "
   ]
  },
  {
   "cell_type": "code",
   "execution_count": 4,
   "metadata": {},
   "outputs": [
    {
     "name": "stdout",
     "output_type": "stream",
     "text": [
      "patient\n",
      "patient\n"
     ]
    }
   ],
   "source": [
    "class Patient(object):\n",
    "    status='patient'   #class variable\n",
    "    def __init__(self,name,age):\n",
    "        self.name=name\n",
    "        self.age=age\n",
    "Vikrant=Patient('Vikram Vikrant',21)\n",
    "Vishal=Patient('Vishal Gaurav',26)\n",
    "print(Vikrant.status)\n",
    "print(Vishal.status)"
   ]
  },
  {
   "cell_type": "code",
   "execution_count": 7,
   "metadata": {},
   "outputs": [
    {
     "name": "stdout",
     "output_type": "stream",
     "text": [
      "PATIENT DETAILS:Vikram Vikrant,21 years old.\n",
      "None\n",
      "PATIENT DETAILS:Vishal Gaurav,26 years old.\n",
      "None\n"
     ]
    }
   ],
   "source": [
    "class Patient(object):\n",
    "    status='patient'\n",
    "    def __init__(self,name,age):\n",
    "        self.name=name\n",
    "        self.age=age\n",
    "    def get_details(self):\n",
    "        print(f'PATIENT DETAILS:{self.name},{self.age} years old.')\n",
    "Vikrant=Patient('Vikram Vikrant',21)\n",
    "Vishal=Patient('Vishal Gaurav',26)\n",
    "print(Vikrant.get_details())\n",
    "print(Vishal.get_details())"
   ]
  },
  {
   "cell_type": "code",
   "execution_count": 1,
   "metadata": {},
   "outputs": [
    {
     "name": "stdout",
     "output_type": "stream",
     "text": [
      "PATIENT DETAILS:Vikram Vikrant,21 years old.Current Information:['Patient is on acne treatment-isotretoin prescribed.'].\n",
      "None\n"
     ]
    }
   ],
   "source": [
    "class Patient(object):\n",
    "    status='patient'\n",
    "    def __init__(self,name,age):\n",
    "        self.name=name\n",
    "        self.age=age\n",
    "        self.conditions=[]\n",
    "    def get_details(self):\n",
    "        print(f'PATIENT DETAILS:{self.name},{self.age} years old.Current Information:{self.conditions}.')\n",
    "    def add_info(self,information):\n",
    "        self.conditions.append(information)\n",
    "Vikrant=Patient('Vikram Vikrant',21)\n",
    "Vishal=Patient('Vishal Gaurav',26)        \n",
    "Vikrant.add_info('Patient is on acne treatment-isotretoin prescribed.')\n",
    "print(Vikrant.get_details())"
   ]
  },
  {
   "cell_type": "code",
   "execution_count": 3,
   "metadata": {},
   "outputs": [
    {
     "name": "stdout",
     "output_type": "stream",
     "text": [
      "Patient Record:Victor George,0 years.Patient has ['MMR'] vaccines.Informatons:[].\n",
      "Victor George is an infant.Has he had all his checks? \n",
      "None\n"
     ]
    }
   ],
   "source": [
    "class Infant(Patient):\n",
    "    def __init__(self,name,age):\n",
    "        self.vaccinations=[]\n",
    "        super().__init__(name,age) #We want variables from derived class\n",
    "    def add_vac(self,vaccine):\n",
    "        self.vaccinations.append(vaccine)\n",
    "    def get_details(self):\n",
    "        print(f'Patient Record:{self.name},{self.age} years.'\\\n",
    "             f'Patient has {self.vaccinations} vaccines.'\\\n",
    "             f'Informatons:{self.conditions}.'\\\n",
    "             f'\\n{self.name} is an infant.Has he had all his checks? ')\n",
    "Victor=Infant('Victor George',0)\n",
    "Victor.add_vac('MMR')\n",
    "print(Victor.get_details())\n",
    "        "
   ]
  }
 ],
 "metadata": {
  "kernelspec": {
   "display_name": "Python 3",
   "language": "python",
   "name": "python3"
  },
  "language_info": {
   "codemirror_mode": {
    "name": "ipython",
    "version": 3
   },
   "file_extension": ".py",
   "mimetype": "text/x-python",
   "name": "python",
   "nbconvert_exporter": "python",
   "pygments_lexer": "ipython3",
   "version": "3.7.3"
  }
 },
 "nbformat": 4,
 "nbformat_minor": 2
}
