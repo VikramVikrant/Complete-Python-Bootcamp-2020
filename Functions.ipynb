{
 "cells": [
  {
   "cell_type": "code",
   "execution_count": 1,
   "metadata": {},
   "outputs": [
    {
     "name": "stdout",
     "output_type": "stream",
     "text": [
      "Hello world ,we have to be together in COVID-19 OUTBREAK.\n"
     ]
    }
   ],
   "source": [
    "def hello():\n",
    "    print('Hello world ,we have to be together in COVID-19 OUTBREAK.')\n",
    "hello()    "
   ]
  },
  {
   "cell_type": "code",
   "execution_count": 2,
   "metadata": {},
   "outputs": [
    {
     "name": "stdout",
     "output_type": "stream",
     "text": [
      "Hello world ,we have to be together in COVID-19 OUTBREAK.\n",
      "Hello world ,we have to be together in COVID-19 OUTBREAK.\n",
      "Hello world ,we have to be together in COVID-19 OUTBREAK.\n",
      "Hello world ,we have to be together in COVID-19 OUTBREAK.\n",
      "Hello world ,we have to be together in COVID-19 OUTBREAK.\n"
     ]
    }
   ],
   "source": [
    "for i in range(5):\n",
    "    hello()"
   ]
  },
  {
   "cell_type": "code",
   "execution_count": 7,
   "metadata": {},
   "outputs": [
    {
     "name": "stdout",
     "output_type": "stream",
     "text": [
      "Hello, rhodey.What are your plans for today?\n",
      "Hello, neil.What are your plans for today?\n",
      "Hello, tobey.What are your plans for today?\n"
     ]
    }
   ],
   "source": [
    "def hi(name):\n",
    "    print(f'Hello, {name}.What are your plans for today?')\n",
    "hi('rhodey')    \n",
    "hi('neil')\n",
    "hi('tobey')"
   ]
  },
  {
   "cell_type": "code",
   "execution_count": 1,
   "metadata": {},
   "outputs": [
    {
     "name": "stdout",
     "output_type": "stream",
     "text": [
      "Hello Sir.I have arranged a meeting for you as directed by Mr.Wayne.\n",
      "Hello Banner.I have arranged a meeting for you as directed by Mr.Wayne.\n",
      "Hello Haward.I have arranged a meeting for you as directed by Mr.Wayne.\n"
     ]
    }
   ],
   "source": [
    "def _hi(names='Sir'):      #It is known as keyword arguement.\n",
    "    print(f'Hello {names}.I have arranged a meeting for you as directed by Mr.Wayne.')\n",
    "_hi()\n",
    "_hi('Banner')\n",
    "_hi('Haward')"
   ]
  },
  {
   "cell_type": "code",
   "execution_count": 4,
   "metadata": {},
   "outputs": [
    {
     "name": "stdout",
     "output_type": "stream",
     "text": [
      "6765\n"
     ]
    }
   ],
   "source": [
    "#fibbonaci no without function\n",
    "n=20\n",
    "a=0\n",
    "b=1\n",
    "for i in range(n):\n",
    "    a,b=b,a+b\n",
    "\n",
    "print(a)    "
   ]
  },
  {
   "cell_type": "code",
   "execution_count": 19,
   "metadata": {},
   "outputs": [
    {
     "name": "stdout",
     "output_type": "stream",
     "text": [
      "6765\n",
      "55\n",
      "4.3 µs ± 274 ns per loop (mean ± std. dev. of 7 runs, 100000 loops each)\n",
      "0 1 1 2 3 5 8 13 21 34 55 89 144 233 377 610 987 1597 2584 4181 "
     ]
    }
   ],
   "source": [
    "#Calculates & return the fibonacci no.\n",
    "import timeit\n",
    "def fib(n):\n",
    "    a=0\n",
    "    b=1\n",
    "    for i in range(n):\n",
    "        a,b=b,a+b\n",
    "    return a\n",
    "    \n",
    "print(fib(20))   \n",
    "fib_no=fib(10)\n",
    "print(fib_no)\n",
    "\n",
    "%timeit fib(20)\n",
    "for i in range(20):\n",
    "    print(fib(i),end=' ')"
   ]
  },
  {
   "cell_type": "code",
   "execution_count": 12,
   "metadata": {},
   "outputs": [
    {
     "name": "stdout",
     "output_type": "stream",
     "text": [
      "<class 'tuple'>\n"
     ]
    },
    {
     "data": {
      "text/plain": [
       "56.0"
      ]
     },
     "execution_count": 12,
     "metadata": {},
     "output_type": "execute_result"
    }
   ],
   "source": [
    "#Function to calculate mean of numbers\n",
    "def calc_mean(first,*remainder):\n",
    "    mean=(first+sum(remainder))/(1+len(remainder))\n",
    "    print(type(remainder))\n",
    "    return mean\n",
    "calc_mean(23,34,45,67,78,89)"
   ]
  },
  {
   "cell_type": "code",
   "execution_count": 21,
   "metadata": {},
   "outputs": [
    {
     "name": "stdout",
     "output_type": "stream",
     "text": [
      "6765\n",
      "8.95 ms ± 219 µs per loop (mean ± std. dev. of 7 runs, 100 loops each)\n"
     ]
    }
   ],
   "source": [
    "#it would be impossible to calculate a very high fibonacci number using recursion\n",
    "def fib_2(n):\n",
    "    if n == 0:\n",
    "        return 0\n",
    "    elif n == 1:\n",
    "        return 1\n",
    "    else:\n",
    "        return fib_2(n-1)+fib_2(n-2)\n",
    "    \n",
    "print(fib_2(20))    \n",
    "%timeit fib_2(20)        "
   ]
  },
  {
   "cell_type": "code",
   "execution_count": 25,
   "metadata": {},
   "outputs": [
    {
     "name": "stdout",
     "output_type": "stream",
     "text": [
      "<class 'tuple'>\n",
      "(15, 56)\n",
      "---------------------------------\n",
      "17\n",
      "<class 'int'>\n",
      "72\n",
      "<class 'int'>\n"
     ]
    }
   ],
   "source": [
    "def sum_mult(a,b):\n",
    "    total=a+b\n",
    "    product=a*b\n",
    "    return total,product\n",
    "result=sum_mult(7,8)\n",
    "print(type(result))\n",
    "print(result)\n",
    "#OR WE CAN DO IS THE FOLLOWING:\n",
    "print('---------------------------------')\n",
    "var1,var2=sum_mult(9,8)\n",
    "print(var1)\n",
    "print(type(var1))\n",
    "print(var2)\n",
    "print(type(var2))"
   ]
  },
  {
   "cell_type": "code",
   "execution_count": 26,
   "metadata": {},
   "outputs": [
    {
     "name": "stdout",
     "output_type": "stream",
     "text": [
      "Inside the function value of v1 is 21 & value of v2 is 26\n",
      "Outside the function the value of v1 is 3 & value of v2 is 4\n"
     ]
    }
   ],
   "source": [
    "v1=3\n",
    "v2=4\n",
    "def increment(v1,v2):\n",
    "    v1=v1+1\n",
    "    v2=v2+1\n",
    "    print(f'Inside the function value of v1 is {v1} & value of v2 is {v2}')\n",
    "increment(20,25)\n",
    "print(f'Outside the function the value of v1 is {v1} & value of v2 is {v2}')"
   ]
  },
  {
   "cell_type": "code",
   "execution_count": 28,
   "metadata": {},
   "outputs": [
    {
     "name": "stdout",
     "output_type": "stream",
     "text": [
      "[1, 2, 3, 4]\n",
      "[1, 2, 3, 4, 4]\n",
      "[1, 2, 3, 4, 4, 4]\n"
     ]
    }
   ],
   "source": [
    "#We do not want this\n",
    "def lengthen_list(n,my_list=[1,2,3]):\n",
    "    my_list.append(n)\n",
    "    return my_list\n",
    "x=lengthen_list(4)\n",
    "print(x)\n",
    "x=lengthen_list(4)\n",
    "print(x)\n",
    "x=lengthen_list(4)\n",
    "print(x)"
   ]
  },
  {
   "cell_type": "code",
   "execution_count": 30,
   "metadata": {},
   "outputs": [
    {
     "name": "stdout",
     "output_type": "stream",
     "text": [
      "[1, 2, 3, 4]\n",
      "[1, 2, 3, 4]\n",
      "[1, 2, 3, 4]\n"
     ]
    }
   ],
   "source": [
    "#What we want is here\n",
    "def lengthen_list2(n,my_list=None):\n",
    "    if my_list==None:\n",
    "        my_list=[1,2,3]\n",
    "        my_list.append(n)\n",
    "        return my_list\n",
    "x=lengthen_list2(4)\n",
    "print(x)\n",
    "x=lengthen_list2(4)\n",
    "print(x)\n",
    "x=lengthen_list2(4)\n",
    "print(x)"
   ]
  }
 ],
 "metadata": {
  "kernelspec": {
   "display_name": "Python 3",
   "language": "python",
   "name": "python3"
  },
  "language_info": {
   "codemirror_mode": {
    "name": "ipython",
    "version": 3
   },
   "file_extension": ".py",
   "mimetype": "text/x-python",
   "name": "python",
   "nbconvert_exporter": "python",
   "pygments_lexer": "ipython3",
   "version": "3.7.3"
  }
 },
 "nbformat": 4,
 "nbformat_minor": 2
}
