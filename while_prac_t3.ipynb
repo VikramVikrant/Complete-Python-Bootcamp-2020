{
 "cells": [
  {
   "cell_type": "code",
   "execution_count": 3,
   "metadata": {},
   "outputs": [
    {
     "name": "stdout",
     "output_type": "stream",
     "text": [
      "10 9 8 7 6 5 4 3 2 1 "
     ]
    }
   ],
   "source": [
    "n=10\n",
    "while n>0:\n",
    "    print(n,end=' ')\n",
    "    n-=1"
   ]
  },
  {
   "cell_type": "code",
   "execution_count": 5,
   "metadata": {},
   "outputs": [
    {
     "name": "stdout",
     "output_type": "stream",
     "text": [
      "Enter the ages of persons..type 0 or negative integer to exit.0\n",
      "age: []\n"
     ]
    }
   ],
   "source": [
    "user_input=int(input('Enter the ages of persons..type 0 or negative integer to exit.'))\n",
    "age=[]\n",
    "while user_input>0:\n",
    "    age.append(user_input)\n",
    "    user_input=int(input('Enter the next ages:'))\n",
    "print('age:',age)    \n",
    "    "
   ]
  },
  {
   "cell_type": "code",
   "execution_count": 6,
   "metadata": {},
   "outputs": [
    {
     "name": "stdout",
     "output_type": "stream",
     "text": [
      "Enter vikrant\n",
      "vikrant has been added.\n",
      "Enter next name?vishal\n",
      "vishal has been added.\n",
      "Enter next name?akash\n",
      "akash has been added.\n",
      "Enter next name?chamgadar\n",
      "chamgadar has been added.\n",
      "Enter next name?neha\n",
      "neha has been added.\n",
      "Enter next name?n\n",
      "There are 5 persons in the room.And they are ['vikrant', 'vishal', 'akash', 'chamgadar', 'neha'].\n"
     ]
    }
   ],
   "source": [
    "count=0\n",
    "class_name=[]\n",
    "name=input('Enter ')\n",
    "while name!= 'n':\n",
    "    count+=1\n",
    "    class_name.append(name)\n",
    "    print(f'{name} has been added.')\n",
    "    name=input('Enter next name?')\n",
    "print(f'There are {count} persons in the room.And they are {class_name}.')    "
   ]
  },
  {
   "cell_type": "code",
   "execution_count": 12,
   "metadata": {},
   "outputs": [
    {
     "name": "stdout",
     "output_type": "stream",
     "text": [
      "[0, 1, 2, 3, 4, 5, 6, 7, 8, 9]\n",
      "[1, 2, 3, 4, 5, 6, 7, 8, 9]\n",
      "[10, 12, 14, 16, 18, 20, 22, 24, 26, 28, 30, 32, 34, 36, 38, 40]\n",
      "<class 'range'>\n"
     ]
    }
   ],
   "source": [
    "print(list(range(10)))\n",
    "print(list(range(1,10)))\n",
    "print(list(range(10,41,2)))\n",
    "print(type(range(10)))"
   ]
  }
 ],
 "metadata": {
  "kernelspec": {
   "display_name": "Python 3",
   "language": "python",
   "name": "python3"
  },
  "language_info": {
   "codemirror_mode": {
    "name": "ipython",
    "version": 3
   },
   "file_extension": ".py",
   "mimetype": "text/x-python",
   "name": "python",
   "nbconvert_exporter": "python",
   "pygments_lexer": "ipython3",
   "version": "3.7.3"
  }
 },
 "nbformat": 4,
 "nbformat_minor": 2
}
