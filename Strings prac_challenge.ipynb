{
 "cells": [
  {
   "cell_type": "markdown",
   "metadata": {},
   "source": [
    "#### Question 1\n",
    "- Write a code that ask user to input a number from 1 to 5 inclusive.\n",
    "- The code will take the integer value & print the corresponding string value.\n",
    "- Reject any input that is not a number in that range."
   ]
  },
  {
   "cell_type": "code",
   "execution_count": 7,
   "metadata": {},
   "outputs": [
    {
     "name": "stdout",
     "output_type": "stream",
     "text": [
      "Enter a number in range 1-5.>>>3\n",
      "Three.\n"
     ]
    }
   ],
   "source": [
    "num=int(input('Enter a number in range 1-5.>>>'))\n",
    "if num == 1:\n",
    "    print('One.')\n",
    "elif num == 2:\n",
    "    print('Two.')\n",
    "elif num == 3:\n",
    "    print('Three.')\n",
    "elif num == 4:\n",
    "    print('Four.')\n",
    "elif num == 5:\n",
    "    print('Five.')\n",
    "else:\n",
    "    print('Entered input is not in range.Try Again!')\n",
    "    "
   ]
  },
  {
   "cell_type": "markdown",
   "metadata": {},
   "source": [
    "### Question 2\n",
    "- Repeat the previous question but this time the user will input a string & code will output\n",
    "  the integer value\n",
    "- Convert the string to lowercase first"
   ]
  },
  {
   "cell_type": "code",
   "execution_count": 12,
   "metadata": {},
   "outputs": [
    {
     "name": "stdout",
     "output_type": "stream",
     "text": [
      "Enter the number in range 1-5.>>>FIVE\n",
      "5\n"
     ]
    }
   ],
   "source": [
    "num=input('Enter the number in range 1-5.>>>')\n",
    "num=num.lower();\n",
    "if num == 'one':\n",
    "    print(1)\n",
    "elif num == 'two':\n",
    "    print(2)\n",
    "elif num == 'three':\n",
    "    print(3)\n",
    "elif num == 'four':\n",
    "    print(4)\n",
    "elif num == 'five':\n",
    "    print(5)\n",
    "else:\n",
    "    print(\"Entered input is not in range.\")"
   ]
  },
  {
   "cell_type": "markdown",
   "metadata": {},
   "source": [
    "### Question 3\n",
    "- Create a variable containing integer between 1-10 inclusive.\n",
    "- Ask the user to guess the number.\n",
    "- If they guess too high or too low,tell them they haven,t won.\n",
    "- Tell them they win if they guess the correct number."
   ]
  },
  {
   "cell_type": "code",
   "execution_count": 18,
   "metadata": {},
   "outputs": [
    {
     "name": "stdout",
     "output_type": "stream",
     "text": [
      "Enter an integer between 1-10.>>>345\n",
      "Out of range.\n"
     ]
    }
   ],
   "source": [
    "secret_no=3\n",
    "num=input(\"Enter an integer between 1-10.>>>\")\n",
    "if num.isdigit():\n",
    "    num=int(num)\n",
    "    if num>3 and num<10:\n",
    "        print(\"You lose,you guessed too high.\")\n",
    "    elif num<3 and num>0:\n",
    "        print(\"You lose,you guessed too low.\")\n",
    "    elif num==3:\n",
    "        print(\"You won,you guessed the correct number.\")\n",
    "    else:\n",
    "        print(\"Out of range.\")\n",
    "else:\n",
    "    print(\"You havenot entered a digit,enter a digit to proceed.\")\n",
    "        "
   ]
  },
  {
   "cell_type": "markdown",
   "metadata": {},
   "source": [
    "### Question 4\n",
    "- Ask the user to enter a name,check the length of the name.\n",
    "- if it is greater than five characters ,tell them the length of their name\n",
    "- otherwise write a message telling them,the length of their name is secret."
   ]
  },
  {
   "cell_type": "code",
   "execution_count": 21,
   "metadata": {},
   "outputs": [
    {
     "name": "stdout",
     "output_type": "stream",
     "text": [
      "Enter your name?deepu\n",
      "The length of your name is secret.\n"
     ]
    }
   ],
   "source": [
    "name=input('Enter your name?')\n",
    "length=len(name)\n",
    "if length>5:\n",
    "    print('The length of your name is',length)\n",
    "else:\n",
    "    print('The length of your name is secret.')"
   ]
  },
  {
   "cell_type": "markdown",
   "metadata": {},
   "source": [
    "### Question 5\n",
    "- Ask the user for two integers between 1 & 20,if they are both greater than 15,return their product.\n",
    "- If only one is greater than 15 return their sum.\n",
    "- If neither are greater than 15,return zero."
   ]
  },
  {
   "cell_type": "code",
   "execution_count": 26,
   "metadata": {},
   "outputs": [
    {
     "name": "stdout",
     "output_type": "stream",
     "text": [
      "Hey user,enter two numbers between 1 & 20\n",
      "Enter first number:20\n",
      "Enter second number:16\n",
      "320\n"
     ]
    }
   ],
   "source": [
    "print(\"Hey user,enter two numbers between 1 & 20\")\n",
    "num1=int(input('Enter first number:'))\n",
    "num2=int(input('Enter second number:'))\n",
    "if num1>15 and num2>15:\n",
    "    print(num1*num2)\n",
    "elif num1>15 or num2<15:\n",
    "    print(num1+num2)\n",
    "elif num1<15 or num2>15:\n",
    "    print(num1+num2)\n",
    "else:\n",
    "    print(0)"
   ]
  },
  {
   "cell_type": "markdown",
   "metadata": {},
   "source": [
    "### Question 6\n",
    "- Ask the user for 2 integers,then swap the content of the variables"
   ]
  },
  {
   "cell_type": "code",
   "execution_count": 27,
   "metadata": {},
   "outputs": [
    {
     "name": "stdout",
     "output_type": "stream",
     "text": [
      "Enter integer 1:23\n",
      "Enter integer 2:34\n",
      "Before swapping int_1= 23 before swapping int_2= 34\n",
      "After swapping int_1= 34 after swapping int_2= 23\n"
     ]
    }
   ],
   "source": [
    "num1=int(input('Enter integer 1:'))\n",
    "num2=int(input('Enter integer 2:'))\n",
    "print('Before swapping int_1=',num1,'before swapping int_2=',num2)\n",
    "num1,num2=num2,num1\n",
    "print('After swapping int_1=',num1,'after swapping int_2=',num2)"
   ]
  }
 ],
 "metadata": {
  "kernelspec": {
   "display_name": "Python 3",
   "language": "python",
   "name": "python3"
  },
  "language_info": {
   "codemirror_mode": {
    "name": "ipython",
    "version": 3
   },
   "file_extension": ".py",
   "mimetype": "text/x-python",
   "name": "python",
   "nbconvert_exporter": "python",
   "pygments_lexer": "ipython3",
   "version": "3.7.3"
  }
 },
 "nbformat": 4,
 "nbformat_minor": 2
}
