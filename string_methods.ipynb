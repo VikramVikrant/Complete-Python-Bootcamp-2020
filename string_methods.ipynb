{
 "cells": [
  {
   "cell_type": "code",
   "execution_count": 2,
   "metadata": {},
   "outputs": [
    {
     "name": "stdout",
     "output_type": "stream",
     "text": [
      "['Ten', 'years', 'have', 'passed.', 'Harry', 'is', 'now', 'almost', 'eleven', 'and', 'living', 'in', 'wretchedness', 'in', 'a', 'cupboard', 'under', 'the', 'stairs\\nin', 'the', 'Dursley', 'house.', 'He', 'is', 'tormented', 'by', 'the', 'Dursleys’', 'son,', 'Dudley,', 'a', 'spoiled', 'and', 'whiny', 'boy.', 'Harry', 'is', 'awakened', 'one', '\\nmorning', 'by', 'his', 'aunt,', 'Petunia,', 'telling', 'him', 'to', 'tend', 'to', 'the', 'bacon', 'immediately,', 'because', 'it', 'is', 'Dudley’s', 'birthday', 'and', '\\neverything', 'must', 'be', 'perfect.', 'Dudley', 'gets', 'upset', 'because', 'he', 'has', 'only', 'thirty-seven', 'presents,', 'one', 'fewer', 'than', 'the', '\\nprevious', 'year.', 'When', 'a', 'neighbor', 'calls', 'to', 'say', 'she', 'will', 'not', 'be', 'able', 'to', 'watch', 'Harry', 'for', 'the', 'day,', 'Dudley', 'begins', 'to', 'cry,\\nas', 'he', 'is', 'upset', 'that', 'Harry', 'will', 'have', 'to', 'be', 'brought', 'along', 'on', 'Dudley’s', 'birthday', 'trip', 'to', 'the', 'zoo.', 'At', 'the', 'zoo,', 'the', '\\nDursleys', 'spoil', 'Dudley', 'and', 'his', 'friend', 'Piers,', 'neglecting', 'Harry', 'as', 'usual.', 'In', 'the', 'reptile', 'house,', 'Harry', 'pays', 'close', '\\nattention', 'to', 'a', 'boa', 'constrictor', 'and', 'is', 'astonished', 'when', 'he', 'is', 'able', 'to', 'have', 'a', 'conversation', 'with', 'it.', 'Noticing', 'what', '\\nHarry', 'is', 'doing,', 'Piers', 'calls', 'over', 'Mr.', 'Dursley', 'and', 'Dudley,', 'who', 'pushes', 'Harry', 'aside', 'to', 'get', 'a', 'better', 'look', 'at', 'the', 'snake.\\nAt', 'this', 'moment,', 'the', 'glass', 'front', 'of', 'the', 'snake’s', 'tank', 'vanishes', 'and', 'the', 'boa', 'constrictor', 'slithers', 'out', 'onto', 'the', 'floor.', '\\nDudley', 'and', 'Piers', 'claim', 'that', 'the', 'snake', 'attacked', 'them.', 'The', 'Dursleys', 'are', 'in', 'shock.', 'At', 'home,', 'Harry', 'is', 'punished', 'for', 'the\\nsnake', 'incident,', 'being', 'sent', 'to', 'his', 'cupboard', 'without', 'any', 'food,', 'though', 'he', 'feels', 'he', 'had', 'nothing', 'to', 'do', 'with', 'what', '\\nhappened.']\n"
     ]
    }
   ],
   "source": [
    "hp='''Ten years have passed. Harry is now almost eleven and living in wretchedness in a cupboard under the stairs\n",
    "in the Dursley house. He is tormented by the Dursleys’ son, Dudley, a spoiled and whiny boy. Harry is awakened one \n",
    "morning by his aunt, Petunia, telling him to tend to the bacon immediately, because it is Dudley’s birthday and \n",
    "everything must be perfect. Dudley gets upset because he has only thirty-seven presents, one fewer than the \n",
    "previous year. When a neighbor calls to say she will not be able to watch Harry for the day, Dudley begins to cry,\n",
    "as he is upset that Harry will have to be brought along on Dudley’s birthday trip to the zoo. At the zoo, the \n",
    "Dursleys spoil Dudley and his friend Piers, neglecting Harry as usual. In the reptile house, Harry pays close \n",
    "attention to a boa constrictor and is astonished when he is able to have a conversation with it. Noticing what \n",
    "Harry is doing, Piers calls over Mr. Dursley and Dudley, who pushes Harry aside to get a better look at the snake.\n",
    "At this moment, the glass front of the snake’s tank vanishes and the boa constrictor slithers out onto the floor. \n",
    "Dudley and Piers claim that the snake attacked them. The Dursleys are in shock. At home, Harry is punished for the\n",
    "snake incident, being sent to his cupboard without any food, though he feels he had nothing to do with what \n",
    "happened.'''\n",
    "new_words=hp.split(' ')\n",
    "print(new_words)"
   ]
  },
  {
   "cell_type": "code",
   "execution_count": 4,
   "metadata": {},
   "outputs": [
    {
     "name": "stdout",
     "output_type": "stream",
     "text": [
      "['Ten', 'years', 'have', 'passed.', 'Harry', 'is', 'now', 'almost', 'eleven', 'and', 'living', 'in', 'wretchedness', 'in', 'a', 'cupboard', 'under', 'the', 'stairs\\nin', 'the', 'Dursley', 'house.', 'He', 'is', 'tormented', 'by', 'the', 'Dursleys’', 'son,', 'Dudley,', 'a', 'spoiled', 'and', 'whiny', 'boy.', 'Harry', 'is', 'awakened', 'one', 'morning', 'by', 'his', 'aunt,', 'Petunia,', 'telling', 'him', 'to', 'tend', 'to', 'the', 'bacon', 'immediately,', 'because', 'it', 'is', 'Dudley’s', 'birthday', 'and', 'everything', 'must', 'be', 'perfect.', 'Dudley', 'gets', 'upset', 'because', 'he', 'has', 'only', 'thirty-seven', 'presents,', 'one', 'fewer', 'than', 'the', 'previous', 'year.', 'When', 'a', 'neighbor', 'calls', 'to', 'say', 'she', 'will', 'not', 'be', 'able', 'to', 'watch', 'Harry', 'for', 'the', 'day,', 'Dudley', 'begins', 'to', 'cry,\\nas', 'he', 'is', 'upset', 'that', 'Harry', 'will', 'have', 'to', 'be', 'brought', 'along', 'on', 'Dudley’s', 'birthday', 'trip', 'to', 'the', 'zoo.', 'At', 'the', 'zoo,', 'the', 'Dursleys', 'spoil', 'Dudley', 'and', 'his', 'friend', 'Piers,', 'neglecting', 'Harry', 'as', 'usual.', 'In', 'the', 'reptile', 'house,', 'Harry', 'pays', 'close', 'attention', 'to', 'a', 'boa', 'constrictor', 'and', 'is', 'astonished', 'when', 'he', 'is', 'able', 'to', 'have', 'a', 'conversation', 'with', 'it.', 'Noticing', 'what', 'Harry', 'is', 'doing,', 'Piers', 'calls', 'over', 'Mr.', 'Dursley', 'and', 'Dudley,', 'who', 'pushes', 'Harry', 'aside', 'to', 'get', 'a', 'better', 'look', 'at', 'the', 'snake.\\nAt', 'this', 'moment,', 'the', 'glass', 'front', 'of', 'the', 'snake’s', 'tank', 'vanishes', 'and', 'the', 'boa', 'constrictor', 'slithers', 'out', 'onto', 'the', 'floor.', 'Dudley', 'and', 'Piers', 'claim', 'that', 'the', 'snake', 'attacked', 'them.', 'The', 'Dursleys', 'are', 'in', 'shock.', 'At', 'home,', 'Harry', 'is', 'punished', 'for', 'the\\nsnake', 'incident,', 'being', 'sent', 'to', 'his', 'cupboard', 'without', 'any', 'food,', 'though', 'he', 'feels', 'he', 'had', 'nothing', 'to', 'do', 'with', 'what', 'happened.']\n"
     ]
    }
   ],
   "source": [
    "for i in range(len(new_words)):\n",
    "    new_words[i]=new_words[i].strip('\\n')\n",
    "print(new_words)    "
   ]
  },
  {
   "cell_type": "code",
   "execution_count": 7,
   "metadata": {},
   "outputs": [
    {
     "name": "stdout",
     "output_type": "stream",
     "text": [
      "True\n",
      "False\n"
     ]
    }
   ],
   "source": [
    "print('Harry' in new_words)\n",
    "print('hero' in new_words)"
   ]
  }
 ],
 "metadata": {
  "kernelspec": {
   "display_name": "Python 3",
   "language": "python",
   "name": "python3"
  },
  "language_info": {
   "codemirror_mode": {
    "name": "ipython",
    "version": 3
   },
   "file_extension": ".py",
   "mimetype": "text/x-python",
   "name": "python",
   "nbconvert_exporter": "python",
   "pygments_lexer": "ipython3",
   "version": "3.7.3"
  }
 },
 "nbformat": 4,
 "nbformat_minor": 2
}
