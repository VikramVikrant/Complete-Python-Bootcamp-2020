{
 "cells": [
  {
   "cell_type": "code",
   "execution_count": 7,
   "metadata": {},
   "outputs": [
    {
     "name": "stdout",
     "output_type": "stream",
     "text": [
      "{'India': 'New Delhi', 'Germany': 'Berlin', 'Australia': 'Canberra', 'New Zealand': 'Wellington'}\n",
      "New Delhi\n",
      "{'India': 'New Delhi', 'Germany': 'Berlin', 'Australia': 'Canberra', 'New Zealand': 'Wellington', 'japan': 'tokyo'}\n",
      "++++++++++++++++++++++++++++++\n"
     ]
    },
    {
     "data": {
      "text/plain": [
       "'Berlin'"
      ]
     },
     "execution_count": 7,
     "metadata": {},
     "output_type": "execute_result"
    }
   ],
   "source": [
    "capitals={'India':'New Delhi','Germany':'Berlin','Australia':'Canberra','New Zealand':'Wellington'}\n",
    "print(capitals)\n",
    "print(capitals['India'])\n",
    "capitals['japan']='tokyo'\n",
    "print(capitals)\n",
    "print('++++++++++++++++++++++++++++++')\n",
    "capitals.get('Germany')"
   ]
  },
  {
   "cell_type": "code",
   "execution_count": 8,
   "metadata": {},
   "outputs": [
    {
     "name": "stdout",
     "output_type": "stream",
     "text": [
      "India\n",
      "Germany\n",
      "Australia\n",
      "New Zealand\n",
      "japan\n"
     ]
    }
   ],
   "source": [
    "for country in capitals:\n",
    "    print(country)"
   ]
  },
  {
   "cell_type": "code",
   "execution_count": 10,
   "metadata": {},
   "outputs": [
    {
     "name": "stdout",
     "output_type": "stream",
     "text": [
      "The capital of India is New Delhi\n",
      "The capital of Germany is Berlin\n",
      "The capital of Australia is Canberra\n",
      "The capital of New Zealand is Wellington\n",
      "The capital of japan is tokyo\n"
     ]
    }
   ],
   "source": [
    "for country,city in capitals.items():\n",
    "    print(f'The capital of {country} is {city}')"
   ]
  },
  {
   "cell_type": "code",
   "execution_count": 11,
   "metadata": {},
   "outputs": [
    {
     "name": "stdout",
     "output_type": "stream",
     "text": [
      "dict_keys(['India', 'Germany', 'Australia', 'New Zealand', 'japan'])\n",
      "\n",
      "dict_values(['New Delhi', 'Berlin', 'Canberra', 'Wellington', 'tokyo'])\n"
     ]
    }
   ],
   "source": [
    "print(capitals.keys())\n",
    "print()\n",
    "print(capitals.values())"
   ]
  },
  {
   "cell_type": "code",
   "execution_count": 23,
   "metadata": {},
   "outputs": [
    {
     "name": "stdout",
     "output_type": "stream",
     "text": [
      "It contains India.\n"
     ]
    }
   ],
   "source": [
    "if 'India' in capitals:\n",
    "    print('It contains India.')"
   ]
  },
  {
   "cell_type": "code",
   "execution_count": 26,
   "metadata": {},
   "outputs": [
    {
     "name": "stdout",
     "output_type": "stream",
     "text": [
      "True\n",
      "False\n"
     ]
    }
   ],
   "source": [
    "list1=[1,2,3,4,5]\n",
    "print(3 in list1)\n",
    "print(7 in list1)"
   ]
  },
  {
   "cell_type": "code",
   "execution_count": 28,
   "metadata": {},
   "outputs": [
    {
     "name": "stdout",
     "output_type": "stream",
     "text": [
      "{'m': 2, 'r': 104, '.': 25, ' ': 304, 'a': 103, 'n': 90, 'd': 2, 's': 115, 'u': 61, 'l': 55, 'e': 179, 'y': 58, ',': 20, 'o': 86, 'f': 20, 'b': 23, 'p': 8, 'i': 76, 'v': 17, 't': 23, 'w': 7, 'h': 84, 'c': 29, 'k': 12, \"'\": 7, 'x': 2, 'g': 28, 'j': 1, '\\n': 24, ';': 2, '-': 2}\n"
     ]
    }
   ],
   "source": [
    "hp='''Mr. and Mrs. Dursley, of number four, Privet Drive, were proud to say that they were perfectly normal, thank you very much. They were the last people you'd expect to be involved in anything strange or mysterious, because they just didn't hold with such nonsense.\n",
    "Mr. Dursley was the director of a firm called Grunnings, which made\n",
    "drills. He was a big, beefy man with hardly any neck, although he did\n",
    "have a very large mustache. Mrs. Dursley was thin and blonde and had\n",
    "nearly twice the usual amount of neck, which came in very useful as she\n",
    "spent so much of her time craning over garden fences, spying on the\n",
    "neighbors. The Dursleys had a small son called Dudley and in their\n",
    "opinion there was no finer boy anywhere.\n",
    "The Dursleys had everything they wanted, but they also had a secret, and\n",
    "their greatest fear was that somebody would discover it. They didn't\n",
    "think they could bear it if anyone found out about the Potters. Mrs.\n",
    "Potter was Mrs. Dursley's sister, but they hadn't met for several years;\n",
    "in fact, Mrs. Dursley pretended she didn't have a sister, because her\n",
    "sister and her good-for-nothing husband were as unDursleyish as it was\n",
    "possible to be. The Dursleys shuddered to think what the neighbors would\n",
    "say if the Potters arrived in the street. The Dursleys knew that the\n",
    "Potters had a small son, too, but they had never even seen him. This boy\n",
    "was another good reason for keeping the Potters away; they didn't want\n",
    "Dudley mixing with a child like that.\n",
    "When Mr. and Mrs. Dursley woke up on the dull, gray Tuesday our story\n",
    "starts, there was nothing about the cloudy sky outside to suggest that\n",
    "strange and mysterious things would soon be happening all over the\n",
    "country. Mr. Dursley hummed as he picked out his most boring tie for\n",
    "work, and Mrs. Dursley gossiped away happily as she wrestled a screaming\n",
    "Dudley into his high chair. '''\n",
    "letter_count={}\n",
    "for letter in hp:\n",
    "    letter_count[letter.lower()]=letter_count.get(letter,0) +1\n",
    "print(letter_count)    "
   ]
  },
  {
   "cell_type": "code",
   "execution_count": 30,
   "metadata": {},
   "outputs": [
    {
     "data": {
      "image/png": "[encoded data removed]",
      "text/plain": [
       "<Figure size 432x288 with 1 Axes>"
      ]
     },
     "metadata": {
      "needs_background": "light"
     },
     "output_type": "display_data"
    }
   ],
   "source": [
    "import matplotlib.pyplot as plt\n",
    "x,y=zip(*letter_count.items())\n",
    "plt.bar(x,y)\n",
    "plt.show()"
   ]
  },
  {
   "cell_type": "code",
   "execution_count": 33,
   "metadata": {},
   "outputs": [
    {
     "name": "stdout",
     "output_type": "stream",
     "text": [
      "{'m': 2, 'r': 104, 'a': 103, 'n': 90, 'd': 2, 's': 115, 'u': 61, 'l': 55, 'e': 179, 'y': 58, 'o': 86, 'f': 20, 'b': 23, 'p': 8, 'i': 76, 'v': 17, 't': 23, 'w': 7, 'h': 84, 'c': 29, 'k': 12, 'x': 2, 'g': 28, 'j': 1}\n"
     ]
    }
   ],
   "source": [
    "letter_count_clean={}\n",
    "for k,v in letter_count.items():\n",
    "    if k.isalpha():\n",
    "        letter_count_clean[k]= v\n",
    "print(letter_count_clean)        "
   ]
  },
  {
   "cell_type": "code",
   "execution_count": 34,
   "metadata": {},
   "outputs": [
    {
     "data": {
      "image/png": "[encoded data removed]",
      "text/plain": [
       "<Figure size 432x288 with 1 Axes>"
      ]
     },
     "metadata": {
      "needs_background": "light"
     },
     "output_type": "display_data"
    }
   ],
   "source": [
    "a,b=zip(*letter_count_clean.items())\n",
    "plt.bar(a,b)\n",
    "plt.show()"
   ]
  }
 ],
 "metadata": {
  "kernelspec": {
   "display_name": "Python 3",
   "language": "python",
   "name": "python3"
  },
  "language_info": {
   "codemirror_mode": {
    "name": "ipython",
    "version": 3
   },
   "file_extension": ".py",
   "mimetype": "text/x-python",
   "name": "python",
   "nbconvert_exporter": "python",
   "pygments_lexer": "ipython3",
   "version": "3.7.3"
  }
 },
 "nbformat": 4,
 "nbformat_minor": 2
}
