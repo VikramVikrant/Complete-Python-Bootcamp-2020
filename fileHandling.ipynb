{
 "cells": [
  {
   "cell_type": "code",
   "execution_count": 9,
   "metadata": {},
   "outputs": [],
   "source": [
    "f=open('story1.txt','w')\n",
    "f.write('This is about a boy who have growned into a man at present time,\\\n",
    "        \\nnot considering his work as a man but age as a man.')\n",
    "f.write('\\nHe wants to prove that he is the best but had been not able to prove it till now.')\n",
    "f.close()"
   ]
  },
  {
   "cell_type": "code",
   "execution_count": 11,
   "metadata": {},
   "outputs": [
    {
     "name": "stdout",
     "output_type": "stream",
     "text": [
      "<class '_io.TextIOWrapper'>\n",
      "This is about a boy who have growned into a man at present time,        \n",
      "not considering his work as a man but age as a man.\n",
      "He wants to prove that he is the best but had been not able to prove it till now.\n"
     ]
    }
   ],
   "source": [
    "v=open('story1.txt','r')\n",
    "print(type(v))\n",
    "print(v.read())\n",
    "v.close()"
   ]
  },
  {
   "cell_type": "code",
   "execution_count": 13,
   "metadata": {},
   "outputs": [
    {
     "name": "stdout",
     "output_type": "stream",
     "text": [
      "This is about a boy who have growned into a man at present time,        \n",
      "\n"
     ]
    }
   ],
   "source": [
    "v=open('story1.txt','r')\n",
    "print(v.readline())\n",
    "v.close()"
   ]
  },
  {
   "cell_type": "code",
   "execution_count": 14,
   "metadata": {},
   "outputs": [
    {
     "name": "stdout",
     "output_type": "stream",
     "text": [
      "['This is about a boy who have growned into a man at present time,        \\n', 'not considering his work as a man but age as a man.\\n', 'He wants to prove that he is the best but had been not able to prove it till now.']\n"
     ]
    }
   ],
   "source": [
    "v=open('story1.txt','r')\n",
    "print(v.readlines())    #See it's in a list.\n",
    "v.close()"
   ]
  },
  {
   "cell_type": "code",
   "execution_count": 15,
   "metadata": {},
   "outputs": [
    {
     "name": "stdout",
     "output_type": "stream",
     "text": [
      "Content is <class 'list'>,& line1 is of type <class 'str'>\n",
      "\n",
      "['This is about a boy who have growned into a man at present time,        \\n', 'not considering his work as a man but age as a man.\\n', 'He wants to prove that he is the best but had been not able to prove it till now.']\n"
     ]
    }
   ],
   "source": [
    "v=open('story1.txt','r')\n",
    "content=v.readlines()\n",
    "line1=v.readline()\n",
    "print(f'Content is {type(content)},& line1 is of type {type(line1)}')\n",
    "print()\n",
    "print(content)\n",
    "v.close()"
   ]
  },
  {
   "cell_type": "code",
   "execution_count": 1,
   "metadata": {},
   "outputs": [],
   "source": [
    "f=open('story1.txt','a')   #Appending to that file\n",
    "f.write('I am appending this to the same file,you will see this when you will reopen the file.')\n",
    "f.write('Have you found it??')\n",
    "f.write('I am telling you, you will find it surely.')\n",
    "f.close()"
   ]
  },
  {
   "cell_type": "code",
   "execution_count": 2,
   "metadata": {},
   "outputs": [
    {
     "name": "stdout",
     "output_type": "stream",
     "text": [
      "This is about a boy who have growned into a man at present time,        \n",
      "not considering his work as a man but age as a man.\n",
      "He wants to prove that he is the best but had been not able to prove it till now.I am appending this to the same file,you will see this when you will reopen the file.Have you found it??I am telling you, you will find it surely.\n"
     ]
    }
   ],
   "source": [
    "f=open('story1.txt','r')\n",
    "print(f.read())\n",
    "f.close()"
   ]
  },
  {
   "cell_type": "code",
   "execution_count": 4,
   "metadata": {},
   "outputs": [
    {
     "name": "stdout",
     "output_type": "stream",
     "text": [
      "This is about a boy who have growned into a man at present time,        \n",
      "not considering his work as a man but age as a man.\n",
      "He wants to prove that he is the best but had been not able to prove it till now.I am appending this to the same file,you will see this when you will reopen the file.Have you found it??I am telling you, you will find it surely."
     ]
    }
   ],
   "source": [
    "with open('story1.txt','r') as f: #In this process you don't have to close the file\n",
    "    for line in f.readlines():\n",
    "        print(line,end='')"
   ]
  }
 ],
 "metadata": {
  "kernelspec": {
   "display_name": "Python 3",
   "language": "python",
   "name": "python3"
  },
  "language_info": {
   "codemirror_mode": {
    "name": "ipython",
    "version": 3
   },
   "file_extension": ".py",
   "mimetype": "text/x-python",
   "name": "python",
   "nbconvert_exporter": "python",
   "pygments_lexer": "ipython3",
   "version": "3.7.3"
  }
 },
 "nbformat": 4,
 "nbformat_minor": 2
}
