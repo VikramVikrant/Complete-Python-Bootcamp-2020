{
 "cells": [
  {
   "cell_type": "markdown",
   "metadata": {},
   "source": [
    "### Question 1\n",
    "- Create a class to represent a bank account.It will need to have a balance,\n",
    "- a method of withdrawing money,depositing money & displaying the balance to the screen.\n",
    "- Create an instance of the bank account & check that the methods work as expected."
   ]
  },
  {
   "cell_type": "code",
   "execution_count": 3,
   "metadata": {},
   "outputs": [
    {
     "name": "stdout",
     "output_type": "stream",
     "text": [
      "Your account balance for SBIN3456XXXX is 300\n",
      "Please enter the money you want to deposit:700\n",
      "Your updated balance is 1000.0\n",
      "How much you like to withdraw money?300\n",
      "Withdrawn Successfull! Your updated balance is 700.0.\n"
     ]
    }
   ],
   "source": [
    "class BankAccount(object):\n",
    "    def __init__(self,balance=0.0):\n",
    "        self.balance=balance\n",
    "    \n",
    "    def display_balance(self):\n",
    "        print(f'Your account balance for SBIN3456XXXX is {self.balance}')\n",
    "        \n",
    "    def make_deposit(self):\n",
    "        ammount=float(input('Please enter the money you want to deposit:'))\n",
    "        self.balance+=ammount\n",
    "        print(f'Your updated balance is {self.balance}')\n",
    "        \n",
    "    def make_withdrawl(self):\n",
    "        ammount=float(input('How much you like to withdraw money?'))\n",
    "        if ammount>self.balance:\n",
    "            print('Sorry,you have insufficient money.')\n",
    "        else:\n",
    "            self.balance-=ammount\n",
    "            print(f'Withdrawn Successfull! Your updated balance is {self.balance}.')\n",
    "            \n",
    "my_bank=BankAccount(300)\n",
    "my_bank.display_balance()\n",
    "'''Let us deposit some money'''\n",
    "my_bank.make_deposit()\n",
    "#Let us withdraw some money\n",
    "my_bank.make_withdrawl()"
   ]
  },
  {
   "cell_type": "markdown",
   "metadata": {},
   "source": [
    "### Question 2\n",
    "- Create a circle class that will take the value of a radius & return the area of the circle."
   ]
  },
  {
   "cell_type": "code",
   "execution_count": 9,
   "metadata": {},
   "outputs": [
    {
     "name": "stdout",
     "output_type": "stream",
     "text": [
      "The area of the circle having radius:5 is 78.53981633974483.\n"
     ]
    }
   ],
   "source": [
    "import math\n",
    "class Circle(object):\n",
    "    def __init__(self,radius):\n",
    "        self.radius=radius\n",
    "     \n",
    "    def cal(self):\n",
    "        area=math.pi* (self.radius)**2\n",
    "        print(f'The area of the circle having radius:{self.radius} is {area}.')\n",
    "        \n",
    "\n",
    "calculate=Circle(5)\n",
    "calculate.cal()"
   ]
  },
  {
   "cell_type": "code",
   "execution_count": 10,
   "metadata": {},
   "outputs": [
    {
     "data": {
      "text/plain": [
       "78.53981633974483"
      ]
     },
     "execution_count": 10,
     "metadata": {},
     "output_type": "execute_result"
    }
   ],
   "source": [
    "import math as m\n",
    "class circle(object):\n",
    "    def __init__(self,radius):\n",
    "        self.radius=radius\n",
    "    def calc_area(self):\n",
    "        area=m.pi * (self.radius**2)\n",
    "        return area\n",
    "    \n",
    "calc=circle(5)\n",
    "calc.calc_area()"
   ]
  }
 ],
 "metadata": {
  "kernelspec": {
   "display_name": "Python 3",
   "language": "python",
   "name": "python3"
  },
  "language_info": {
   "codemirror_mode": {
    "name": "ipython",
    "version": 3
   },
   "file_extension": ".py",
   "mimetype": "text/x-python",
   "name": "python",
   "nbconvert_exporter": "python",
   "pygments_lexer": "ipython3",
   "version": "3.7.3"
  }
 },
 "nbformat": 4,
 "nbformat_minor": 2
}
