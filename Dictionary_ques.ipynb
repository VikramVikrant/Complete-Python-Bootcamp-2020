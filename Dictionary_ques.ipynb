{
 "cells": [
  {
   "cell_type": "markdown",
   "metadata": {},
   "source": [
    "### Question 1\n",
    "- Can you remember how to check if a key exits in a dictionary?\n",
    "- using the capitals dictionary below write some code to ask the user to input a country\n",
    "- Then check to see that country exists in a dictionary\n",
    "- if it is then print the capital else print it's not there"
   ]
  },
  {
   "cell_type": "code",
   "execution_count": 2,
   "metadata": {},
   "outputs": [
    {
     "name": "stdout",
     "output_type": "stream",
     "text": [
      "Type the name of the country:China\n",
      "China is not there in your datasets.\n"
     ]
    }
   ],
   "source": [
    "Capitals={'India':'New Delhi','Australia':'Canberra','UK':'London','France':'Paris','South Africa':'Cape Town'\n",
    "         ,'US':'New York'}\n",
    "country=input('Type the name of the country:')\n",
    "if country in Capitals:\n",
    "        print(f'Capital of {country} is {Capitals[country]}.')\n",
    "else:        \n",
    "    print(f'{country} is not there in your datasets.')"
   ]
  },
  {
   "cell_type": "code",
   "execution_count": null,
   "metadata": {},
   "outputs": [],
   "source": [
    "capitals={'France':'Paris','Spain':'Madrid','United Kingdom':'London','India':'New Delhi','United States':'Washington DC',\n",
    "         'Italy':'Rome','Denmark':'Copenhagen','Germany':'Berlin','Greece':'Athens','Bulgaria':'Sofia','Ireland':'Dublin'\n",
    "         ,'Mexico':'Mexico City'}\n",
    "user_ip=input('Which country do you like to check?:>')\n",
    "user_ip=user_ip.lower()\n",
    "while ('united kingdom' not in user_ip and not user_ip.isalpha()):\n",
    "    if user_ip=='united states':\n",
    "        break\n",
    "    print('You must input a string.')\n",
    "    user_ip=input('Which country do you like to check?:>>')\n",
    "user_ip=user_ip.title()\n",
    "print(user_ip)\n",
    "if user_ip in capitals:\n",
    "        print(f'Capital of {user_ip} is {capitals[user_ip]}.')\n",
    "else:        \n",
    "    print('Not in datasets.')"
   ]
  },
  {
   "cell_type": "markdown",
   "metadata": {},
   "source": [
    "### Question 2\n",
    "- Write a python code that will produce key value pairs that represents first 12 value of fibonacci sequence"
   ]
  },
  {
   "cell_type": "code",
   "execution_count": 1,
   "metadata": {},
   "outputs": [
    {
     "name": "stdout",
     "output_type": "stream",
     "text": [
      "{1: 0, 2: 1, 3: 1, 4: 2, 5: 3, 6: 5, 7: 8, 8: 13, 9: 21, 10: 34, 11: 55, 12: 89}\n"
     ]
    }
   ],
   "source": [
    "n=12\n",
    "a=0\n",
    "b=1\n",
    "d=dict()   #d={}\n",
    "for i in range(1,n+1):\n",
    "    d[i]=a\n",
    "    a,b=b,a+b\n",
    "print(d)    "
   ]
  },
  {
   "cell_type": "markdown",
   "metadata": {},
   "source": [
    "### Question 3\n",
    "- Create a dictionary to represent the open,high,low,close share price data for 4 imaginaries company.\n",
    "- 'pythonDS','pythonSoft','pythazon',& 'pybook'\n",
    "- the 4 sets of data are [[12.87,13.23,11.42,13.10],[23.54,25.76,21.87,22.33],[98.99,102.34,97.21,100.065],\n",
    "- [203.63,207.54,202.43,205.24]]"
   ]
  },
  {
   "cell_type": "code",
   "execution_count": 5,
   "metadata": {},
   "outputs": [
    {
     "name": "stdout",
     "output_type": "stream",
     "text": [
      "{'pythonDS': {'open': 12.87, 'high': 13.23, 'low': 11.42, 'close': 13.1}, 'pythonSoft': {'open': 23.54, 'high': 25.76, 'low': 21.87, 'close': 22.33}, 'pythazon': {'open': 98.99, 'high': 102.34, 'low': 97.21, 'close': 100.065}, 'pybook': {'open': 203.63, 'high': 207.54, 'low': 202.43, 'close': 205.24}}\n"
     ]
    }
   ],
   "source": [
    "d1={}\n",
    "companies=['pythonDS','pythonSoft','pythazon','pybook']\n",
    "keynames=['open','high','low','close']\n",
    "price=[[12.87,13.23,11.42,13.10],[23.54,25.76,21.87,22.33],[98.99,102.34,97.21,100.065],\n",
    "       [203.63,207.54,202.43,205.24]]\n",
    "for i in range(len(keynames)):\n",
    "    d1[companies[i]]=dict(zip(keynames,price[i]))\n",
    "print(d1)    "
   ]
  },
  {
   "cell_type": "markdown",
   "metadata": {},
   "source": [
    "### Question 4\n",
    "- Go to python module web page & find a module that you like\n",
    "- Play with it,reads it's documentation & try to implement it"
   ]
  },
  {
   "cell_type": "code",
   "execution_count": 3,
   "metadata": {},
   "outputs": [
    {
     "name": "stdout",
     "output_type": "stream",
     "text": [
      "Today is 2020-03-19\n",
      "There is 85 remaining for holiday.\n"
     ]
    }
   ],
   "source": [
    "import datetime\n",
    "today=datetime.date.today()\n",
    "print(f'Today is {today}')\n",
    "holiday=datetime.date(2019,12,25)\n",
    "delta=today-holiday\n",
    "print(f'There is {delta.days} remaining for holiday.')"
   ]
  },
  {
   "cell_type": "markdown",
   "metadata": {},
   "source": [
    "### Question 5\n",
    "- Create a dictionary containing key as letters from A-Z ,the values should be random number created by random module.\n",
    "- Can you draw a bar graph for the result?"
   ]
  },
  {
   "cell_type": "code",
   "execution_count": 13,
   "metadata": {},
   "outputs": [
    {
     "name": "stdout",
     "output_type": "stream",
     "text": [
      "{'A': 47, 'B': 51, 'C': 50, 'D': 70, 'E': 41, 'F': 79, 'G': 14, 'H': 78, 'I': 16, 'J': 56, 'K': 60, 'L': 38, 'M': 87, 'N': 10, 'O': 63, 'P': 72, 'Q': 38, 'R': 17, 'S': 50, 'T': 63, 'U': 30, 'V': 18, 'W': 4, 'X': 91, 'Y': 15, 'Z': 96}\n"
     ]
    }
   ],
   "source": [
    "from random import randint as rd\n",
    "keys='ABCDEFGHIJKLMNOPQRSTUVWXYZ'\n",
    "d1=dict()   #di={}\n",
    "for letter in keys:\n",
    "    d1[letter]=rd(1,100)\n",
    "print(d1)    "
   ]
  },
  {
   "cell_type": "code",
   "execution_count": 14,
   "metadata": {},
   "outputs": [
    {
     "data": {
      "image/png": "[encoded data removed]",
      "text/plain": [
       "<Figure size 432x288 with 1 Axes>"
      ]
     },
     "metadata": {
      "needs_background": "light"
     },
     "output_type": "display_data"
    }
   ],
   "source": [
    "import matplotlib.pyplot as plt\n",
    "x,y=zip(*d1.items())\n",
    "plt.bar(x,y)\n",
    "plt.show()"
   ]
  },
  {
   "cell_type": "markdown",
   "metadata": {},
   "source": [
    "### Question 6\n",
    "- Create a dictionary containing 4 suits of 13 cards\n",
    "- ['Ace',2,3,4,5,6,7,8,9,10,King,Queen,Jack]"
   ]
  },
  {
   "cell_type": "code",
   "execution_count": 16,
   "metadata": {},
   "outputs": [
    {
     "name": "stdout",
     "output_type": "stream",
     "text": [
      "{'Spades': ['Ace', 2, 3, 4, 5, 6, 7, 8, 9, 10, 'Jack', 'King', 'Queen'], 'Clubs': ['Ace', 2, 3, 4, 5, 6, 7, 8, 9, 10, 'Jack', 'King', 'Queen'], 'Hearts': ['Ace', 2, 3, 4, 5, 6, 7, 8, 9, 10, 'Jack', 'King', 'Queen'], 'Diamonds': ['Ace', 2, 3, 4, 5, 6, 7, 8, 9, 10, 'Jack', 'King', 'Queen']}\n"
     ]
    }
   ],
   "source": [
    "suit=['Spades','Clubs','Hearts','Diamonds']\n",
    "rank=['Ace',2,3,4,5,6,7,8,9,10,'Jack','King','Queen']\n",
    "deck={}\n",
    "for i in suit:\n",
    "    deck[i]=rank\n",
    "print(deck)    "
   ]
  }
 ],
 "metadata": {
  "kernelspec": {
   "display_name": "Python 3",
   "language": "python",
   "name": "python3"
  },
  "language_info": {
   "codemirror_mode": {
    "name": "ipython",
    "version": 3
   },
   "file_extension": ".py",
   "mimetype": "text/x-python",
   "name": "python",
   "nbconvert_exporter": "python",
   "pygments_lexer": "ipython3",
   "version": "3.7.3"
  }
 },
 "nbformat": 4,
 "nbformat_minor": 2
}
